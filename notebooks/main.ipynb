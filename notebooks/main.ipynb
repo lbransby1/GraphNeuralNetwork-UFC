{
 "cells": [
  {
   "cell_type": "markdown",
   "id": "b6b23e71",
   "metadata": {},
   "source": [
    "## Imports"
   ]
  },
  {
   "cell_type": "code",
   "execution_count": null,
   "id": "c0898730",
   "metadata": {},
   "outputs": [],
   "source": [
    "import torch\n",
    "import random\n",
    "import pandas as pd\n",
    "import torch.nn as nn\n",
    "import torch.optim as optim\n",
    "from sklearn.preprocessing import LabelEncoder\n"
   ]
  },
  {
   "cell_type": "code",
   "execution_count": null,
   "id": "10b0e9e5",
   "metadata": {},
   "outputs": [
    {
     "name": "stdout",
     "output_type": "stream",
     "text": [
      "             Name  StrikesLandedPerMin  StrikesAbsorbedPerMin  \\\n",
      "0    Scott Morris                 1.20                  15.60   \n",
      "1  Sean Daugherty                 0.00                   3.00   \n",
      "2   Patrick Smith                 5.20                   1.80   \n",
      "3      Ray Wizard                 1.03                   1.03   \n",
      "4   Johnny Rhodes                 1.70                   0.79   \n",
      "\n",
      "   TakedownsPer15Min  OpponentTakedownsPer15Min  SubmissionsPer15Min  \\\n",
      "0              18.00                        0.0                18.00   \n",
      "1               0.00                       45.0                 0.00   \n",
      "2               6.00                        3.0                 9.00   \n",
      "3               0.00                        0.0                 0.00   \n",
      "4               0.91                        0.0                 0.91   \n",
      "\n",
      "   ControlPer15Min  StrikingAccuracyPct  StrikeDefencePct  \\\n",
      "0              0.0               100.00             38.10   \n",
      "1              0.0                 0.00              0.00   \n",
      "2              0.0                65.00             35.71   \n",
      "3              0.0               100.00              0.00   \n",
      "4              0.0                50.91             45.83   \n",
      "\n",
      "   TakedownAccuracyPct  TakedownDefencePct      Elo         DOB  Height  \\\n",
      "0                50.00               100.0  1000.00         NaN    70.0   \n",
      "1                 0.00                 0.0   942.00  1975-12-04    72.0   \n",
      "2                66.67                75.0  1154.19  1963-08-28    74.0   \n",
      "3                 0.00               100.0   942.00         NaN     NaN   \n",
      "4               100.00               100.0  1050.01         NaN    72.0   \n",
      "\n",
      "   Weight  Reach    Stance  \n",
      "0   210.0    NaN  Orthodox  \n",
      "1   175.0    NaN       Nan  \n",
      "2   225.0    NaN  Orthodox  \n",
      "3     NaN    NaN       Nan  \n",
      "4   210.0    NaN  Orthodox  \n",
      "Name                          object\n",
      "StrikesLandedPerMin          float64\n",
      "StrikesAbsorbedPerMin        float64\n",
      "TakedownsPer15Min            float64\n",
      "OpponentTakedownsPer15Min    float64\n",
      "SubmissionsPer15Min          float64\n",
      "ControlPer15Min              float64\n",
      "StrikingAccuracyPct          float64\n",
      "StrikeDefencePct             float64\n",
      "TakedownAccuracyPct          float64\n",
      "TakedownDefencePct           float64\n",
      "Elo                          float64\n",
      "DOB                           object\n",
      "Height                       float64\n",
      "Weight                       float64\n",
      "Reach                        float64\n",
      "Stance                        object\n",
      "dtype: object\n"
     ]
    },
    {
     "ename": "TypeError",
     "evalue": "can't convert np.ndarray of type numpy.object_. The only supported types are: float64, float32, float16, complex64, complex128, int64, int32, int16, int8, uint64, uint32, uint16, uint8, and bool.",
     "output_type": "error",
     "traceback": [
      "\u001b[1;31m---------------------------------------------------------------------------\u001b[0m",
      "\u001b[1;31mTypeError\u001b[0m                                 Traceback (most recent call last)",
      "Cell \u001b[1;32mIn[11], line 11\u001b[0m\n\u001b[0;32m      8\u001b[0m stats \u001b[38;5;241m=\u001b[39m df\u001b[38;5;241m.\u001b[39mdrop(columns\u001b[38;5;241m=\u001b[39m[\u001b[38;5;124m\"\u001b[39m\u001b[38;5;124mName\u001b[39m\u001b[38;5;124m\"\u001b[39m])\u001b[38;5;241m.\u001b[39mvalues  \n\u001b[0;32m     10\u001b[0m \u001b[38;5;66;03m# Convert to torch tensor (each row = one fighter)\u001b[39;00m\n\u001b[1;32m---> 11\u001b[0m fighter_tensor \u001b[38;5;241m=\u001b[39m \u001b[43mtorch\u001b[49m\u001b[38;5;241;43m.\u001b[39;49m\u001b[43mtensor\u001b[49m\u001b[43m(\u001b[49m\u001b[43mstats\u001b[49m\u001b[43m)\u001b[49m\n\u001b[0;32m     13\u001b[0m \u001b[38;5;28mprint\u001b[39m(fighter_tensor)\n\u001b[0;32m     14\u001b[0m \u001b[38;5;28mprint\u001b[39m(fighter_tensor\u001b[38;5;241m.\u001b[39mshape)  \u001b[38;5;66;03m# (num_fighters, num_features)\u001b[39;00m\n",
      "\u001b[1;31mTypeError\u001b[0m: can't convert np.ndarray of type numpy.object_. The only supported types are: float64, float32, float16, complex64, complex128, int64, int32, int16, int8, uint64, uint32, uint16, uint8, and bool."
     ]
    }
   ],
   "source": [
    "from sklearn.preprocessing import LabelEncoder\n",
    "# Load CSV\n",
    "df = pd.read_csv(\"../processed_data/fighter_averages.csv\")\n",
    "\n",
    "#print(df.head())\n",
    "print(df.dtypes)\n",
    "\n",
    "le = LabelEncoder()\n",
    "df[\"stance\"] = le.fit_transform(df[\"stance\"])\n",
    "\n",
    "stats = df.drop(columns=[\"Name, DOB\"]).values  \n",
    "\n",
    "\n",
    "# Convert to torch tensor (each row = one fighter)\n",
    "fighter_tensor = torch.tensor(stats)\n",
    "\n",
    "print(fighter_tensor)\n",
    "print(fighter_tensor.shape)  # (num_fighters, num_features)"
   ]
  }
 ],
 "metadata": {
  "kernelspec": {
   "display_name": "Python 3",
   "language": "python",
   "name": "python3"
  },
  "language_info": {
   "codemirror_mode": {
    "name": "ipython",
    "version": 3
   },
   "file_extension": ".py",
   "mimetype": "text/x-python",
   "name": "python",
   "nbconvert_exporter": "python",
   "pygments_lexer": "ipython3",
   "version": "3.11.9"
  }
 },
 "nbformat": 4,
 "nbformat_minor": 5
}
